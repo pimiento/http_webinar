{
 "cells": [
  {
   "cell_type": "markdown",
   "id": "c6910e28",
   "metadata": {
    "slideshow": {
     "slide_type": "slide"
    }
   },
   "source": [
    "![Cliet-Server](client_server.png)"
   ]
  },
  {
   "cell_type": "code",
   "execution_count": null,
   "id": "a3eae840",
   "metadata": {
    "slideshow": {
     "slide_type": "fragment"
    }
   },
   "outputs": [],
   "source": [
    "from django.http import HttpResponse\n",
    "\n",
    "def index(request):\n",
    "    return HttpResponse(\"<html><body>Привет</body></html>\") # -> str\n",
    "    return \"<html><body>Привет</body></html>\""
   ]
  },
  {
   "cell_type": "code",
   "execution_count": 1,
   "id": "522ebeb4",
   "metadata": {
    "scrolled": true,
    "slideshow": {
     "slide_type": "slide"
    }
   },
   "outputs": [
    {
     "name": "stdout",
     "output_type": "stream",
     "text": [
      "*   Trying 87.250.250.242:80...\n",
      "* TCP_NODELAY set\n",
      "* Connected to ya.ru (87.250.250.242) port 80 (#0)\n",
      "> GET / HTTP/1.1\n",
      "> Host: ya.ru\n",
      "> User-Agent: curl/7.68.0\n",
      "> Accept: */*\n",
      "> \n",
      "* Mark bundle as not supporting multiuse\n",
      "< HTTP/1.1 302 Moved temporarily\n",
      "< Cache-Control: no-cache,no-store,max-age=0,must-revalidate\n",
      "< Date: Mon, 04 Jul 2022 16:16:25 GMT\n",
      "< Expires: Mon, 04 Jul 2022 16:16:26 GMT\n",
      "< Last-Modified: Mon, 04 Jul 2022 16:16:26 GMT\n",
      "< Location: https://ya.ru/\n",
      "< NEL: {\"report_to\": \"network-errors\", \"max_age\": 86400, \"success_fraction\": 0.001, \"failure_fraction\": 0.1}\n",
      "< P3P: policyref=\"/w3c/p3p.xml\", CP=\"NON DSP ADM DEV PSD IVDo OUR IND STP PHY PRE NAV UNI\"\n",
      "< Report-To: { \"group\": \"network-errors\", \"max_age\": 86400, \"endpoints\": [ { \"url\": \"https://dr.yandex.net/nel\"}]}\n",
      "< Transfer-Encoding: chunked\n",
      "< X-Content-Type-Options: nosniff\n",
      "< X-Yandex-Req-Id: 1656951385822816-12318667990460294159-vla1-4526-vla-l7-balancer-8080-BAL-1069\n",
      "< set-cookie: is_gdpr=0; Path=/; Domain=.ya.ru; Expires=Wed, 03 Jul 2024 16:16:25 GMT\n",
      "< set-cookie: is_gdpr_b=CI+ICxC7fCgC; Path=/; Domain=.ya.ru; Expires=Wed, 03 Jul 2024 16:16:25 GMT\n",
      "< set-cookie: _yasc=kcFAUEtFgW298WrdNiLsyXj+j0FYIMPF4Bxm1qkT+1yZUw==; domain=.ya.ru; path=/; expires=Wed, 03-Aug-2022 16:16:25 GMT; secure\n",
      "< \n",
      "* Connection #0 to host ya.ru left intact\n"
     ]
    }
   ],
   "source": [
    "!curl -v http://ya.ru/"
   ]
  },
  {
   "cell_type": "markdown",
   "id": "2402d203-b510-47b9-8899-65b5ccfedf5b",
   "metadata": {
    "slideshow": {
     "slide_type": "slide"
    }
   },
   "source": [
    "```\n",
    "GET / HTTP/1.1\n",
    "Host: ya.ru\n",
    "User-Agent: Mozilla/5.0 (X11; Linux x86_64; rv:102.0) Gecko/20100101 Firefox/102.0\n",
    "Accept: text/html,application/xhtml+xml,application/xml;q=0.9,image/avif,image/webp,*/*;q=0.8\n",
    "Accept-Language: en-US,en;q=0.5\n",
    "Accept-Encoding: gzip, deflate, br\n",
    "Connection: keep-alive\n",
    "Cookie: yp=1972195329.udn.cDrQn9Cw0LLQtdC7#1659240040.ygu.1#1656850580.gpauto.56_826221%3A60_590634%3A23%3A1%3A1656677770#1687420388.stltp.serp_bk-map_1_1655884388#1657025063.mcv.1#1657025063.mcl.14h095#1657025063.szm.1%3A1920x1080%3A1920x995#1657084913.mct.null; yandexuid=9215324561654969449; i=mUB8Q9voN7SXvF/RkkesZGYsBKNVrPxotp9iS99phnPvuHcZ3VNBzjq6VPdNTrFRPYwlcziBhOPyRActdDxq9PWNTKQ=; is_gdpr=0; is_gdpr_b=CKuXThD9BygC; yandex_gid=54; _yasc=pzDC3KacMSnRqIZvcuEfTc8i5NJd7+vZs0l5PLORDXVq4A==; yandex_csyr=1656824529; Session_id=3:1656835329.5.0.1654888664578:8vS_Ww:44.1.2:1|166559121.-1.2|6:174407.603198.PogyJJmEgJ3jZf1EfKioBBuo60s; yandex_login=senior-pimiento; ys=udn.cDrQn9Cw0LLQtdC7#c_chck.2579744302; my=; mda2_beacon=1656835329342\n",
    "Upgrade-Insecure-Requests: 1\n",
    "Sec-Fetch-Dest: document\n",
    "Sec-Fetch-Mode: navigate\n",
    "Sec-Fetch-Site: none\n",
    "Sec-Fetch-User: ?1\n",
    "Sec-GPC: 1\n",
    "Pragma: no-cache\n",
    "Cache-Control: no-cache\n",
    "```"
   ]
  },
  {
   "cell_type": "code",
   "execution_count": 2,
   "id": "34898024",
   "metadata": {
    "slideshow": {
     "slide_type": "slide"
    }
   },
   "outputs": [
    {
     "name": "stdout",
     "output_type": "stream",
     "text": [
      "Reading package lists... Done\n",
      "Building dependency tree       \n",
      "Reading state information... Done\n",
      "telnet is already the newest version (0.17-41.2build1).\n",
      "0 upgraded, 0 newly installed, 0 to remove and 0 not upgraded.\n"
     ]
    }
   ],
   "source": [
    "!sudo apt install telnet"
   ]
  },
  {
   "cell_type": "markdown",
   "id": "cc031df6",
   "metadata": {
    "slideshow": {
     "slide_type": "fragment"
    }
   },
   "source": [
    "```\n",
    "$ telnet example.com 80\n",
    "GET / HTTP/1.1\n",
    "Host: example.com\n",
    "\n",
    "^]\n",
    "```"
   ]
  },
  {
   "cell_type": "code",
   "execution_count": 3,
   "id": "fb71b462",
   "metadata": {
    "slideshow": {
     "slide_type": "slide"
    }
   },
   "outputs": [
    {
     "name": "stdout",
     "output_type": "stream",
     "text": [
      "91.191.244.242\n",
      "--------\n",
      "3: wlp5s0: <BROADCAST,MULTICAST,UP,LOWER_UP> mtu 1500 qdisc noqueue state UP group default qlen 1000\n",
      "    link/ether 3c:95:09:67:af:ff brd ff:ff:ff:ff:ff:ff\n",
      "    inet 192.168.88.252/24 brd 192.168.88.255 scope global dynamic noprefixroute wlp5s0\n",
      "       valid_lft 348sec preferred_lft 348sec\n",
      "    inet6 fe80::4afc:635c:28b2:6b7e/64 scope link noprefixroute \n",
      "       valid_lft forever preferred_lft forever\n"
     ]
    }
   ],
   "source": [
    "!curl ifconfig.me\n",
    "!echo\n",
    "!echo \"--------\"\n",
    "!ip addr show dev wlp5s0"
   ]
  },
  {
   "cell_type": "markdown",
   "id": "216b22a8",
   "metadata": {
    "slideshow": {
     "slide_type": "fragment"
    }
   },
   "source": [
    "[Назначения подсетей IPv4](https://ru.wikipedia.org/wiki/IPv4#%D0%9D%D0%B0%D0%B7%D0%BD%D0%B0%D1%87%D0%B5%D0%BD%D0%B8%D1%8F_%D0%BF%D0%BE%D0%B4%D1%81%D0%B5%D1%82%D0%B5%D0%B9)"
   ]
  },
  {
   "cell_type": "code",
   "execution_count": 4,
   "id": "2d457238",
   "metadata": {
    "scrolled": true,
    "slideshow": {
     "slide_type": "slide"
    }
   },
   "outputs": [
    {
     "name": "stdout",
     "output_type": "stream",
     "text": [
      "# Network services, Internet style\r\n",
      "#\r\n",
      "# Note that it is presently the policy of IANA to assign a single well-known\r\n",
      "# port number for both TCP and UDP; hence, officially ports have two entries\r\n",
      "# even if the protocol doesn't support UDP operations.\r\n",
      "#\r\n",
      "# Updated from https://www.iana.org/assignments/service-names-port-numbers/service-names-port-numbers.xhtml .\r\n",
      "#\r\n",
      "# New ports will be added on request if they have been officially assigned\r\n",
      "# by IANA and used in the real-world or are needed by a debian package.\r\n",
      "# If you need a huge list of used numbers please install the nmap package.\r\n",
      "\r\n",
      "tcpmux\t\t1/tcp\t\t\t\t# TCP port service multiplexer\r\n",
      "echo\t\t7/tcp\r\n",
      "echo\t\t7/udp\r\n",
      "discard\t\t9/tcp\t\tsink null\r\n",
      "discard\t\t9/udp\t\tsink null\r\n",
      "systat\t\t11/tcp\t\tusers\r\n",
      "daytime\t\t13/tcp\r\n",
      "daytime\t\t13/udp\r\n",
      "netstat\t\t15/tcp\r\n",
      "qotd\t\t17/tcp\t\tquote\r\n",
      "chargen\t\t19/tcp\t\tttytst source\r\n",
      "chargen\t\t19/udp\t\tttytst source\r\n",
      "ftp-data\t20/tcp\r\n",
      "ftp\t\t21/tcp\r\n",
      "fsp\t\t21/udp\t\tfspd\r\n",
      "ssh\t\t22/tcp\t\t\t\t# SSH Remote Login Protocol\r\n",
      "telnet\t\t23/tcp\r\n",
      "smtp\t\t25/tcp\t\tmail\r\n",
      "time\t\t37/tcp\t\ttimserver\r\n",
      "time\t\t37/udp\t\ttimserver\r\n",
      "whois\t\t43/tcp\t\tnicname\r\n",
      "tacacs\t\t49/tcp\t\t\t\t# Login Host Protocol (TACACS)\r\n",
      "tacacs\t\t49/udp\r\n",
      "domain\t\t53/tcp\t\t\t\t# Domain Name Server\r\n",
      "domain\t\t53/udp\r\n",
      "bootps\t\t67/udp\r\n",
      "bootpc\t\t68/udp\r\n",
      "tftp\t\t69/udp\r\n",
      "gopher\t\t70/tcp\t\t\t\t# Internet Gopher\r\n",
      "finger\t\t79/tcp\r\n",
      "http\t\t80/tcp\t\twww\t\t# WorldWideWeb HTTP\r\n",
      "kerberos\t88/tcp\t\tkerberos5 krb5 kerberos-sec\t# Kerberos v5\r\n",
      "kerberos\t88/udp\t\tkerberos5 krb5 kerberos-sec\t# Kerberos v5\r\n",
      "iso-tsap\t102/tcp\t\ttsap\t\t# part of ISODE\r\n",
      "acr-nema\t104/tcp\t\tdicom\t\t# Digital Imag. & Comm. 300\r\n",
      "pop3\t\t110/tcp\t\tpop-3\t\t# POP version 3\r\n",
      "sunrpc\t\t111/tcp\t\tportmapper\t# RPC 4.0 portmapper\r\n",
      "sunrpc\t\t111/udp\t\tportmapper\r\n",
      "auth\t\t113/tcp\t\tauthentication tap ident\r\n",
      "nntp\t\t119/tcp\t\treadnews untp\t# USENET News Transfer Protocol\r\n",
      "ntp\t\t123/udp\t\t\t\t# Network Time Protocol\r\n",
      "epmap\t\t135/tcp\t\tloc-srv\t\t# DCE endpoint resolution\r\n",
      "netbios-ns\t137/tcp\t\t\t\t# NETBIOS Name Service\r\n",
      "netbios-ns\t137/udp\r\n",
      "netbios-dgm\t138/tcp\t\t\t\t# NETBIOS Datagram Service\r\n",
      "netbios-dgm\t138/udp\r\n",
      "netbios-ssn\t139/tcp\t\t\t\t# NETBIOS session service\r\n",
      "netbios-ssn\t139/udp\r\n",
      "imap2\t\t143/tcp\t\timap\t\t# Interim Mail Access P 2 and 4\r\n",
      "snmp\t\t161/tcp\t\t\t\t# Simple Net Mgmt Protocol\r\n",
      "snmp\t\t161/udp\r\n",
      "snmp-trap\t162/tcp\t\tsnmptrap\t# Traps for SNMP\r\n",
      "snmp-trap\t162/udp\t\tsnmptrap\r\n",
      "cmip-man\t163/tcp\t\t\t\t# ISO mgmt over IP (CMOT)\r\n",
      "cmip-man\t163/udp\r\n",
      "cmip-agent\t164/tcp\r\n",
      "cmip-agent\t164/udp\r\n",
      "mailq\t\t174/tcp\t\t\t# Mailer transport queue for Zmailer\r\n",
      "xdmcp\t\t177/udp\t\t\t# X Display Manager Control Protocol\r\n",
      "bgp\t\t179/tcp\t\t\t\t# Border Gateway Protocol\r\n",
      "smux\t\t199/tcp\t\t\t\t# SNMP Unix Multiplexer\r\n",
      "qmtp\t\t209/tcp\t\t\t\t# Quick Mail Transfer Protocol\r\n",
      "z3950\t\t210/tcp\t\twais\t\t# NISO Z39.50 database\r\n",
      "ipx\t\t213/udp\t\t\t\t# IPX [RFC1234]\r\n",
      "ptp-event\t319/udp\r\n",
      "ptp-general\t320/udp\r\n",
      "pawserv\t\t345/tcp\t\t\t\t# Perf Analysis Workbench\r\n",
      "zserv\t\t346/tcp\t\t\t\t# Zebra server\r\n",
      "rpc2portmap\t369/tcp\r\n",
      "rpc2portmap\t369/udp\t\t\t\t# Coda portmapper\r\n",
      "codaauth2\t370/tcp\r\n",
      "codaauth2\t370/udp\t\t\t\t# Coda authentication server\r\n",
      "clearcase\t371/udp\t\tClearcase\r\n",
      "ldap\t\t389/tcp\t\t\t# Lightweight Directory Access Protocol\r\n",
      "ldap\t\t389/udp\r\n",
      "svrloc\t\t427/tcp\t\t\t\t# Server Location\r\n",
      "svrloc\t\t427/udp\r\n",
      "https\t\t443/tcp\t\t\t\t# http protocol over TLS/SSL\r\n",
      "snpp\t\t444/tcp\t\t\t\t# Simple Network Paging Protocol\r\n",
      "microsoft-ds\t445/tcp\t\t\t\t# Microsoft Naked CIFS\r\n",
      "microsoft-ds\t445/udp\r\n",
      "kpasswd\t\t464/tcp\r\n",
      "kpasswd\t\t464/udp\r\n",
      "submissions\t465/tcp\t\tssmtp smtps urd # Submission over TLS [RFC8314]\r\n",
      "saft\t\t487/tcp\t\t\t# Simple Asynchronous File Transfer\r\n",
      "isakmp\t\t500/udp\t\t\t\t# IPSEC key management\r\n",
      "rtsp\t\t554/tcp\t\t\t# Real Time Stream Control Protocol\r\n",
      "rtsp\t\t554/udp\r\n",
      "nqs\t\t607/tcp\t\t\t\t# Network Queuing system\r\n",
      "asf-rmcp\t623/udp\t\t# ASF Remote Management and Control Protocol\r\n",
      "qmqp\t\t628/tcp\r\n",
      "ipp\t\t631/tcp\t\t\t\t# Internet Printing Protocol\r\n",
      "#\r\n",
      "# UNIX specific services\r\n",
      "#\r\n",
      "exec\t\t512/tcp\r\n",
      "biff\t\t512/udp\t\tcomsat\r\n",
      "login\t\t513/tcp\r\n",
      "who\t\t513/udp\t\twhod\r\n",
      "shell\t\t514/tcp\t\tcmd syslog\t# no passwords used\r\n",
      "syslog\t\t514/udp\r\n",
      "printer\t\t515/tcp\t\tspooler\t\t# line printer spooler\r\n",
      "talk\t\t517/udp\r\n",
      "ntalk\t\t518/udp\r\n",
      "route\t\t520/udp\t\trouter routed\t# RIP\r\n",
      "gdomap\t\t538/tcp\t\t\t\t# GNUstep distributed objects\r\n",
      "gdomap\t\t538/udp\r\n",
      "uucp\t\t540/tcp\t\tuucpd\t\t# uucp daemon\r\n",
      "klogin\t\t543/tcp\t\t\t\t# Kerberized `rlogin' (v5)\r\n",
      "kshell\t\t544/tcp\t\tkrcmd\t\t# Kerberized `rsh' (v5)\r\n",
      "dhcpv6-client\t546/udp\r\n",
      "dhcpv6-server\t547/udp\r\n",
      "afpovertcp\t548/tcp\t\t\t\t# AFP over TCP\r\n",
      "nntps\t\t563/tcp\t\tsnntp\t\t# NNTP over SSL\r\n",
      "submission\t587/tcp\t\t\t\t# Submission [RFC4409]\r\n",
      "ldaps\t\t636/tcp\t\t\t\t# LDAP over SSL\r\n",
      "ldaps\t\t636/udp\r\n",
      "tinc\t\t655/tcp\t\t\t\t# tinc control port\r\n",
      "tinc\t\t655/udp\r\n",
      "silc\t\t706/tcp\r\n",
      "kerberos-adm\t749/tcp\t\t\t\t# Kerberos `kadmin' (v5)\r\n",
      "#\r\n",
      "domain-s\t853/tcp\t\t\t\t# DNS over TLS [RFC7858]\r\n",
      "domain-s\t853/udp\t\t\t\t# DNS over DTLS [RFC8094]\r\n",
      "rsync\t\t873/tcp\r\n",
      "ftps-data\t989/tcp\t\t\t\t# FTP over SSL (data)\r\n",
      "ftps\t\t990/tcp\r\n",
      "telnets\t\t992/tcp\t\t\t\t# Telnet over SSL\r\n",
      "imaps\t\t993/tcp\t\t\t\t# IMAP over SSL\r\n",
      "pop3s\t\t995/tcp\t\t\t\t# POP-3 over SSL\r\n",
      "#\r\n",
      "# From ``Assigned Numbers'':\r\n",
      "#\r\n",
      "#> The Registered Ports are not controlled by the IANA and on most systems\r\n",
      "#> can be used by ordinary user processes or programs executed by ordinary\r\n",
      "#> users.\r\n",
      "#\r\n",
      "#> Ports are used in the TCP [45,106] to name the ends of logical\r\n",
      "#> connections which carry long term conversations.  For the purpose of\r\n",
      "#> providing services to unknown callers, a service contact port is\r\n",
      "#> defined.  This list specifies the port used by the server process as its\r\n",
      "#> contact port.  While the IANA can not control uses of these ports it\r\n",
      "#> does register or list uses of these ports as a convienence to the\r\n",
      "#> community.\r\n",
      "#\r\n",
      "socks\t\t1080/tcp\t\t\t# socks proxy server\r\n",
      "proofd\t\t1093/tcp\r\n",
      "rootd\t\t1094/tcp\r\n",
      "openvpn\t\t1194/tcp\r\n",
      "openvpn\t\t1194/udp\r\n",
      "rmiregistry\t1099/tcp\t\t\t# Java RMI Registry\r\n",
      "lotusnote\t1352/tcp\tlotusnotes\t# Lotus Note\r\n",
      "ms-sql-s\t1433/tcp\t\t\t# Microsoft SQL Server\r\n",
      "ms-sql-s\t1433/udp\r\n",
      "ms-sql-m\t1434/tcp\t\t\t# Microsoft SQL Monitor\r\n",
      "ms-sql-m\t1434/udp\r\n",
      "ingreslock\t1524/tcp\r\n",
      "datametrics\t1645/tcp\told-radius\r\n",
      "datametrics\t1645/udp\told-radius\r\n",
      "sa-msg-port\t1646/tcp\told-radacct\r\n",
      "sa-msg-port\t1646/udp\told-radacct\r\n",
      "kermit\t\t1649/tcp\r\n",
      "groupwise\t1677/tcp\r\n",
      "l2f\t\t1701/udp\tl2tp\r\n",
      "radius\t\t1812/tcp\r\n",
      "radius\t\t1812/udp\r\n",
      "radius-acct\t1813/tcp\tradacct\t\t# Radius Accounting\r\n",
      "radius-acct\t1813/udp\tradacct\r\n",
      "cisco-sccp\t2000/tcp\t\t\t# Cisco SCCP\r\n",
      "nfs\t\t2049/tcp\t\t\t# Network File System\r\n",
      "nfs\t\t2049/udp\t\t\t# Network File System\r\n",
      "gnunet\t\t2086/tcp\r\n",
      "gnunet\t\t2086/udp\r\n",
      "rtcm-sc104\t2101/tcp\t\t\t# RTCM SC-104 IANA 1/29/99\r\n",
      "rtcm-sc104\t2101/udp\r\n",
      "gsigatekeeper\t2119/tcp\r\n",
      "gris\t\t2135/tcp\t\t# Grid Resource Information Server\r\n",
      "cvspserver\t2401/tcp\t\t\t# CVS client/server operations\r\n",
      "venus\t\t2430/tcp\t\t\t# codacon port\r\n",
      "venus\t\t2430/udp\t\t\t# Venus callback/wbc interface\r\n",
      "venus-se\t2431/tcp\t\t\t# tcp side effects\r\n",
      "venus-se\t2431/udp\t\t\t# udp sftp side effect\r\n",
      "codasrv\t\t2432/tcp\t\t\t# not used\r\n",
      "codasrv\t\t2432/udp\t\t\t# server port\r\n",
      "codasrv-se\t2433/tcp\t\t\t# tcp side effects\r\n",
      "codasrv-se\t2433/udp\t\t\t# udp sftp side effect\r\n",
      "mon\t\t2583/tcp\t\t\t# MON traps\r\n",
      "mon\t\t2583/udp\r\n",
      "dict\t\t2628/tcp\t\t\t# Dictionary server\r\n",
      "f5-globalsite\t2792/tcp\r\n",
      "gsiftp\t\t2811/tcp\r\n",
      "gpsd\t\t2947/tcp\r\n",
      "gds-db\t\t3050/tcp\tgds_db\t\t# InterBase server\r\n",
      "icpv2\t\t3130/tcp\ticp\t\t# Internet Cache Protocol\r\n",
      "icpv2\t\t3130/udp\ticp\r\n",
      "isns\t\t3205/tcp\t\t\t# iSNS Server Port\r\n",
      "isns\t\t3205/udp\t\t\t# iSNS Server Port\r\n",
      "iscsi-target\t3260/tcp\r\n",
      "mysql\t\t3306/tcp\r\n",
      "ms-wbt-server\t3389/tcp\r\n",
      "nut\t\t3493/tcp\t\t\t# Network UPS Tools\r\n",
      "nut\t\t3493/udp\r\n",
      "distcc\t\t3632/tcp\t\t\t# distributed compiler\r\n",
      "distcc\t\t3632/udp\r\n",
      "daap\t\t3689/tcp\t\t\t# Digital Audio Access Protocol\r\n",
      "daap\t\t3689/udp\r\n",
      "svn\t\t3690/tcp\tsubversion\t# Subversion protocol\r\n",
      "svn\t\t3690/udp\tsubversion\r\n",
      "suucp\t\t4031/tcp\t\t\t# UUCP over SSL\r\n",
      "suucp\t\t4031/udp\r\n",
      "sysrqd\t\t4094/tcp\t\t\t# sysrq daemon\r\n",
      "sysrqd\t\t4094/udp\r\n",
      "sieve\t\t4190/tcp\t\t\t# ManageSieve Protocol\r\n",
      "epmd\t\t4369/tcp\t\t\t# Erlang Port Mapper Daemon\r\n",
      "epmd\t\t4369/udp\r\n",
      "remctl\t\t4373/tcp\t\t# Remote Authenticated Command Service\r\n",
      "remctl\t\t4373/udp\r\n",
      "f5-iquery\t4353/tcp\t\t\t# F5 iQuery\r\n",
      "f5-iquery\t4353/udp\r\n",
      "ipsec-nat-t\t4500/udp\t\t\t# IPsec NAT-Traversal [RFC3947]\r\n",
      "iax\t\t4569/tcp\t\t\t# Inter-Asterisk eXchange\r\n",
      "iax\t\t4569/udp\r\n",
      "mtn\t\t4691/tcp\t\t\t# monotone Netsync Protocol\r\n",
      "mtn\t\t4691/udp\r\n",
      "radmin-port\t4899/tcp\t\t\t# RAdmin Port\r\n",
      "radmin-port\t4899/udp\r\n",
      "sip\t\t5060/tcp\t\t\t# Session Initiation Protocol\r\n",
      "sip\t\t5060/udp\r\n",
      "sip-tls\t\t5061/tcp\r\n",
      "sip-tls\t\t5061/udp\r\n",
      "xmpp-client\t5222/tcp\tjabber-client\t# Jabber Client Connection\r\n",
      "xmpp-server\t5269/tcp\tjabber-server\t# Jabber Server Connection\r\n",
      "cfengine\t5308/tcp\r\n",
      "mdns\t\t5353/udp\t\t\t# Multicast DNS\r\n",
      "postgresql\t5432/tcp\tpostgres\t# PostgreSQL Database\r\n",
      "freeciv\t\t5556/tcp\trptp\t\t# Freeciv gameplay\r\n",
      "amqps\t\t5671/tcp\t\t\t# AMQP protocol over TLS/SSL\r\n",
      "amqp\t\t5672/tcp\r\n",
      "amqp\t\t5672/udp\r\n",
      "amqp\t\t5672/sctp\r\n",
      "x11\t\t6000/tcp\tx11-0\t\t# X Window System\r\n",
      "x11-1\t\t6001/tcp\r\n",
      "x11-2\t\t6002/tcp\r\n",
      "x11-3\t\t6003/tcp\r\n",
      "x11-4\t\t6004/tcp\r\n",
      "x11-5\t\t6005/tcp\r\n",
      "x11-6\t\t6006/tcp\r\n",
      "x11-7\t\t6007/tcp\r\n",
      "gnutella-svc\t6346/tcp\t\t\t# gnutella\r\n",
      "gnutella-svc\t6346/udp\r\n",
      "gnutella-rtr\t6347/tcp\t\t\t# gnutella\r\n",
      "gnutella-rtr\t6347/udp\r\n",
      "sge-qmaster\t6444/tcp\tsge_qmaster\t# Grid Engine Qmaster Service\r\n",
      "sge-execd\t6445/tcp\tsge_execd\t# Grid Engine Execution Service\r\n",
      "mysql-proxy\t6446/tcp\t\t\t# MySQL Proxy\r\n",
      "babel\t\t6696/udp\t\t\t# Babel Routing Protocol\r\n",
      "ircs-u\t\t6697/tcp\t\t# Internet Relay Chat via TLS/SSL\r\n",
      "afs3-fileserver 7000/tcp\tbbs\t\t# file server itself\r\n",
      "afs3-fileserver 7000/udp\tbbs\r\n",
      "afs3-callback\t7001/tcp\t\t\t# callbacks to cache managers\r\n",
      "afs3-callback\t7001/udp\r\n",
      "afs3-prserver\t7002/tcp\t\t\t# users & groups database\r\n",
      "afs3-prserver\t7002/udp\r\n",
      "afs3-vlserver\t7003/tcp\t\t\t# volume location database\r\n",
      "afs3-vlserver\t7003/udp\r\n",
      "afs3-kaserver\t7004/tcp\t\t\t# AFS/Kerberos authentication\r\n",
      "afs3-kaserver\t7004/udp\r\n",
      "afs3-volser\t7005/tcp\t\t\t# volume managment server\r\n",
      "afs3-volser\t7005/udp\r\n",
      "afs3-errors\t7006/tcp\t\t\t# error interpretation service\r\n",
      "afs3-errors\t7006/udp\r\n",
      "afs3-bos\t7007/tcp\t\t\t# basic overseer process\r\n",
      "afs3-bos\t7007/udp\r\n",
      "afs3-update\t7008/tcp\t\t\t# server-to-server updater\r\n",
      "afs3-update\t7008/udp\r\n",
      "afs3-rmtsys\t7009/tcp\t\t\t# remote cache manager service\r\n",
      "afs3-rmtsys\t7009/udp\r\n",
      "font-service\t7100/tcp\txfs\t\t# X Font Service\r\n",
      "http-alt\t8080/tcp\twebcache\t# WWW caching service\r\n",
      "puppet\t\t8140/tcp\t\t\t# The Puppet master service\r\n",
      "bacula-dir\t9101/tcp\t\t\t# Bacula Director\r\n",
      "bacula-fd\t9102/tcp\t\t\t# Bacula File Daemon\r\n",
      "bacula-sd\t9103/tcp\t\t\t# Bacula Storage Daemon\r\n",
      "xmms2\t\t9667/tcp\t# Cross-platform Music Multiplexing System\r\n",
      "nbd\t\t10809/tcp\t\t\t# Linux Network Block Device\r\n",
      "zabbix-agent\t10050/tcp\t\t\t# Zabbix Agent\r\n",
      "zabbix-trapper\t10051/tcp\t\t\t# Zabbix Trapper\r\n",
      "amanda\t\t10080/tcp\t\t\t# amanda backup services\r\n",
      "dicom\t\t11112/tcp\r\n",
      "hkp\t\t11371/tcp\t\t\t# OpenPGP HTTP Keyserver\r\n",
      "db-lsp\t\t17500/tcp\t\t\t# Dropbox LanSync Protocol\r\n",
      "dcap\t\t22125/tcp\t\t\t# dCache Access Protocol\r\n",
      "gsidcap\t\t22128/tcp\t\t\t# GSI dCache Access Protocol\r\n",
      "wnn6\t\t22273/tcp\t\t\t# wnn6\r\n",
      "\r\n",
      "#\r\n",
      "# Datagram Delivery Protocol services\r\n",
      "#\r\n",
      "rtmp\t\t1/ddp\t\t\t# Routing Table Maintenance Protocol\r\n",
      "nbp\t\t2/ddp\t\t\t# Name Binding Protocol\r\n",
      "echo\t\t4/ddp\t\t\t# AppleTalk Echo Protocol\r\n",
      "zip\t\t6/ddp\t\t\t# Zone Information Protocol\r\n",
      "\r\n",
      "#=========================================================================\r\n",
      "# The remaining port numbers are not as allocated by IANA.\r\n",
      "#=========================================================================\r\n",
      "\r\n",
      "# Kerberos (Project Athena/MIT) services\r\n",
      "kerberos4\t750/udp\t\tkerberos-iv kdc\t# Kerberos (server)\r\n",
      "kerberos4\t750/tcp\t\tkerberos-iv kdc\r\n",
      "kerberos-master\t751/udp\t\tkerberos_master\t# Kerberos authentication\r\n",
      "kerberos-master\t751/tcp\r\n",
      "passwd-server\t752/udp\t\tpasswd_server\t# Kerberos passwd server\r\n",
      "krb-prop\t754/tcp\t\tkrb_prop krb5_prop hprop # Kerberos slave propagation\r\n",
      "zephyr-srv\t2102/udp\t\t\t# Zephyr server\r\n",
      "zephyr-clt\t2103/udp\t\t\t# Zephyr serv-hm connection\r\n",
      "zephyr-hm\t2104/udp\t\t\t# Zephyr hostmanager\r\n",
      "iprop\t\t2121/tcp\t\t\t# incremental propagation\r\n",
      "supfilesrv\t871/tcp\t\t\t# Software Upgrade Protocol server\r\n",
      "supfiledbg\t1127/tcp\t\t# Software Upgrade Protocol debugging\r\n",
      "\r\n",
      "#\r\n",
      "# Services added for the Debian GNU/Linux distribution\r\n",
      "#\r\n",
      "poppassd\t106/tcp\t\t\t\t# Eudora\r\n",
      "poppassd\t106/udp\r\n",
      "moira-db\t775/tcp\t\tmoira_db\t# Moira database\r\n",
      "moira-update\t777/tcp\t\tmoira_update\t# Moira update protocol\r\n",
      "moira-ureg\t779/udp\t\tmoira_ureg\t# Moira user registration\r\n",
      "spamd\t\t783/tcp\t\t\t\t# spamassassin daemon\r\n",
      "skkserv\t\t1178/tcp\t\t\t# skk jisho server port\r\n",
      "predict\t\t1210/udp\t\t\t# predict -- satellite tracking\r\n",
      "rmtcfg\t\t1236/tcp\t\t\t# Gracilis Packeten remote config server\r\n",
      "xtel\t\t1313/tcp\t\t\t# french minitel\r\n",
      "xtelw\t\t1314/tcp\t\t\t# french minitel\r\n",
      "support\t\t1529/tcp\t\t\t# GNATS\r\n",
      "cfinger\t\t2003/tcp\t\t\t# GNU Finger\r\n",
      "frox\t\t2121/tcp\t\t\t# frox: caching ftp proxy\r\n",
      "zebrasrv\t2600/tcp\t\t\t# zebra service\r\n",
      "zebra\t\t2601/tcp\t\t\t# zebra vty\r\n",
      "ripd\t\t2602/tcp\t\t\t# ripd vty (zebra)\r\n",
      "ripngd\t\t2603/tcp\t\t\t# ripngd vty (zebra)\r\n",
      "ospfd\t\t2604/tcp\t\t\t# ospfd vty (zebra)\r\n",
      "bgpd\t\t2605/tcp\t\t\t# bgpd vty (zebra)\r\n",
      "ospf6d\t\t2606/tcp\t\t\t# ospf6d vty (zebra)\r\n",
      "ospfapi\t\t2607/tcp\t\t\t# OSPF-API\r\n",
      "isisd\t\t2608/tcp\t\t\t# ISISd vty (zebra)\r\n",
      "afbackup\t2988/tcp\t\t\t# Afbackup system\r\n",
      "afbackup\t2988/udp\r\n",
      "afmbackup\t2989/tcp\t\t\t# Afmbackup system\r\n",
      "afmbackup\t2989/udp\r\n",
      "fax\t\t4557/tcp\t\t\t# FAX transmission service (old)\r\n",
      "hylafax\t\t4559/tcp\t\t\t# HylaFAX client-server protocol (new)\r\n",
      "distmp3\t\t4600/tcp\t\t\t# distmp3host daemon\r\n",
      "munin\t\t4949/tcp\tlrrd\t\t# Munin\r\n",
      "enbd-cstatd\t5051/tcp\t\t\t# ENBD client statd\r\n",
      "enbd-sstatd\t5052/tcp\t\t\t# ENBD server statd\r\n",
      "pcrd\t\t5151/tcp\t\t\t# PCR-1000 Daemon\r\n",
      "noclog\t\t5354/tcp\t\t\t# noclogd with TCP (nocol)\r\n",
      "noclog\t\t5354/udp\t\t\t# noclogd with UDP (nocol)\r\n",
      "hostmon\t\t5355/tcp\t\t\t# hostmon uses TCP (nocol)\r\n",
      "hostmon\t\t5355/udp\t\t\t# hostmon uses UDP (nocol)\r\n",
      "rplay\t\t5555/udp\t\t\t# RPlay audio service\r\n",
      "nrpe\t\t5666/tcp\t\t\t# Nagios Remote Plugin Executor\r\n",
      "nsca\t\t5667/tcp\t\t\t# Nagios Agent - NSCA\r\n",
      "mrtd\t\t5674/tcp\t\t\t# MRT Routing Daemon\r\n",
      "bgpsim\t\t5675/tcp\t\t\t# MRT Routing Simulator\r\n",
      "canna\t\t5680/tcp\t\t\t# cannaserver\r\n",
      "syslog-tls\t6514/tcp\t\t\t# Syslog over TLS [RFC5425]\r\n",
      "sane-port\t6566/tcp\tsane saned\t# SANE network scanner daemon\r\n",
      "ircd\t\t6667/tcp\t\t\t# Internet Relay Chat\r\n",
      "zope-ftp\t8021/tcp\t\t\t# zope management by ftp\r\n",
      "tproxy\t\t8081/tcp\t\t\t# Transparent Proxy\r\n",
      "omniorb\t\t8088/tcp\t\t\t# OmniORB\r\n",
      "omniorb\t\t8088/udp\r\n",
      "clc-build-daemon 8990/tcp\t\t\t# Common lisp build daemon\r\n",
      "xinetd\t\t9098/tcp\r\n",
      "mandelspawn\t9359/udp\tmandelbrot\t# network mandelbrot\r\n",
      "git\t\t9418/tcp\t\t\t# Git Version Control System\r\n",
      "zope\t\t9673/tcp\t\t\t# zope server\r\n",
      "webmin\t\t10000/tcp\r\n",
      "kamanda\t\t10081/tcp\t\t\t# amanda backup services (Kerberos)\r\n",
      "amandaidx\t10082/tcp\t\t\t# amanda backup services\r\n",
      "amidxtape\t10083/tcp\t\t\t# amanda backup services\r\n",
      "smsqp\t\t11201/tcp\t\t\t# Alamin SMS gateway\r\n",
      "smsqp\t\t11201/udp\r\n",
      "xpilot\t\t15345/tcp\t\t\t# XPilot Contact Port\r\n",
      "xpilot\t\t15345/udp\r\n",
      "sgi-cmsd\t17001/udp\t\t# Cluster membership services daemon\r\n",
      "sgi-crsd\t17002/udp\r\n",
      "sgi-gcd\t\t17003/udp\t\t\t# SGI Group membership daemon\r\n",
      "sgi-cad\t\t17004/tcp\t\t\t# Cluster Admin daemon\r\n",
      "isdnlog\t\t20011/tcp\t\t\t# isdn logging system\r\n",
      "isdnlog\t\t20011/udp\r\n",
      "vboxd\t\t20012/tcp\t\t\t# voice box system\r\n",
      "vboxd\t\t20012/udp\r\n",
      "binkp\t\t24554/tcp\t\t\t# binkp fidonet protocol\r\n",
      "asp\t\t27374/tcp\t\t\t# Address Search Protocol\r\n",
      "asp\t\t27374/udp\r\n",
      "csync2\t\t30865/tcp\t\t\t# cluster synchronization tool\r\n",
      "dircproxy\t57000/tcp\t\t\t# Detachable IRC Proxy\r\n",
      "tfido\t\t60177/tcp\t\t\t# fidonet EMSI over telnet\r\n",
      "fido\t\t60179/tcp\t\t\t# fidonet EMSI over TCP\r\n",
      "\r\n",
      "# Local services\r\n"
     ]
    }
   ],
   "source": [
    "!cat /etc/services\n",
    "# /C/windows/system32/drivers/etc/services\n",
    "# http://example.com -> 1.2.3.4"
   ]
  },
  {
   "cell_type": "markdown",
   "id": "7604deb2-314f-4047-8728-4690caea3099",
   "metadata": {
    "slideshow": {
     "slide_type": "slide"
    }
   },
   "source": [
    "![TCP Segment Header](tcp_segment_header.png)"
   ]
  },
  {
   "cell_type": "markdown",
   "id": "d584db54",
   "metadata": {
    "slideshow": {
     "slide_type": "slide"
    }
   },
   "source": [
    "**Настало время немножечко на~ш~кодить**"
   ]
  },
  {
   "cell_type": "markdown",
   "id": "46aa8e41",
   "metadata": {
    "slideshow": {
     "slide_type": "fragment"
    }
   },
   "source": [
    "```python\n",
    "#!/usr/bin/env python3\n",
    "\"\"\"echo_socket.py\"\"\"\n",
    "\n",
    "import socket\n",
    "\n",
    "HOST = '127.0.0.1'  # Standard loopback interface address (localhost)\n",
    "PORT = 8081         # Port to listen on (non-privileged ports are > 1023)\n",
    "\n",
    "with socket.socket(socket.AF_INET, socket.SOCK_STREAM) as s:\n",
    "    s.bind((HOST, PORT))\n",
    "    s.listen()\n",
    "    try:\n",
    "        conn, addr = s.accept()\n",
    "        with conn:\n",
    "            print('Connected by', addr)\n",
    "            while True:\n",
    "                data = conn.recv(1024)\n",
    "                if not data:\n",
    "                    break\n",
    "                conn.sendall(data)\n",
    "    finally:\n",
    "        print(f\"Close port {PORT}\")\n",
    "        s.shutdown(socket.SHUT_RDWR)\n",
    "```"
   ]
  },
  {
   "cell_type": "markdown",
   "id": "6917c28b",
   "metadata": {
    "slideshow": {
     "slide_type": "slide"
    }
   },
   "source": [
    "**А теперь напишем Django с нуля 😉**"
   ]
  },
  {
   "cell_type": "markdown",
   "id": "85f9820d",
   "metadata": {
    "slideshow": {
     "slide_type": "fragment"
    }
   },
   "source": [
    "```python\n",
    "#!/usr/bin/env python3\n",
    "\"\"\"django.py\"\"\"\n",
    "\n",
    "import socket\n",
    "\n",
    "HOST = '127.0.0.1'  # Standard loopback interface address (localhost)\n",
    "PORT = 8082         # Port to listen on (non-privileged ports are > 1023)\n",
    "\n",
    "with socket.socket(socket.AF_INET, socket.SOCK_STREAM) as s:\n",
    "    try:\n",
    "        s.bind((HOST, PORT))\n",
    "        s.listen()\n",
    "        conn, addr = s.accept()\n",
    "        with conn:\n",
    "            print('Connected by', addr)\n",
    "            while True:\n",
    "                data = conn.recv(1024).decode('utf-8')\n",
    "                if not data:\n",
    "                    break\n",
    "                try:\n",
    "                    path = data.rstrip('\\n').rstrip('\\r')\n",
    "                    print(repr(path))\n",
    "                    with open(path, 'r') as fd:\n",
    "                        conn.sendall((fd.read(1000) + '\\r\\n').encode('utf-8'))\n",
    "                except Exception as e:\n",
    "                    conn.sendall(str(e + '\\r\\n').encode('utf-8'))\n",
    "    finally:\n",
    "        print(f\"Close port {PORT}\")\n",
    "        s.shutdown(socket.SHUT_RDWR)\n",
    "\n",
    "```"
   ]
  },
  {
   "cell_type": "markdown",
   "id": "31f100d8",
   "metadata": {
    "slideshow": {
     "slide_type": "slide"
    }
   },
   "source": [
    "**Поподглядываем немного**"
   ]
  },
  {
   "cell_type": "markdown",
   "id": "4e16bd29",
   "metadata": {
    "slideshow": {
     "slide_type": "fragment"
    }
   },
   "source": [
    "```bash\n",
    "sudo tcpdump -A -i lo -vvv -s 500 'tcp port 8000 and tcp[tcpflags] & tcp-push != 0 and dst port 8000' -f\n",
    "```"
   ]
  },
  {
   "cell_type": "markdown",
   "id": "6c42a467",
   "metadata": {
    "slideshow": {
     "slide_type": "slide"
    }
   },
   "source": [
    "![Single Page Application](spa.png)"
   ]
  },
  {
   "cell_type": "markdown",
   "id": "8385137a",
   "metadata": {
    "slideshow": {
     "slide_type": "subslide"
    }
   },
   "source": [
    "```javascript\n",
    "var jqxhr = $.ajax({\n",
    "    method: \"POST\",\n",
    "    url: \"some.php\",\n",
    "    data: { name: \"John\", location: \"Boston\" }\n",
    "  })\n",
    "  .done(function() {\n",
    "    alert( \"success\" );\n",
    "  })\n",
    "  .fail(function() {\n",
    "    alert( \"error\" );\n",
    "  })\n",
    "  .always(function() {\n",
    "    alert( \"complete\" );\n",
    "  });\n",
    "```"
   ]
  }
 ],
 "metadata": {
  "celltoolbar": "Slideshow",
  "kernelspec": {
   "display_name": "Python 3 (ipykernel)",
   "language": "python",
   "name": "python3"
  },
  "language_info": {
   "codemirror_mode": {
    "name": "ipython",
    "version": 3
   },
   "file_extension": ".py",
   "mimetype": "text/x-python",
   "name": "python",
   "nbconvert_exporter": "python",
   "pygments_lexer": "ipython3",
   "version": "3.8.10"
  },
  "name": "webinar.ipynb"
 },
 "nbformat": 4,
 "nbformat_minor": 5
}
