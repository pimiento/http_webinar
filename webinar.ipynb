{
 "cells": [
  {
   "cell_type": "markdown",
   "id": "c6910e28",
   "metadata": {
    "slideshow": {
     "slide_type": "slide"
    }
   },
   "source": [
    "![Cliet-Server](client_server.png)"
   ]
  },
  {
   "cell_type": "code",
   "execution_count": 1,
   "id": "a3eae840",
   "metadata": {
    "slideshow": {
     "slide_type": "fragment"
    }
   },
   "outputs": [],
   "source": [
    "from django.http import HttpResponse"
   ]
  },
  {
   "cell_type": "code",
   "execution_count": 2,
   "id": "522ebeb4",
   "metadata": {
    "slideshow": {
     "slide_type": "slide"
    }
   },
   "outputs": [
    {
     "name": "stdout",
     "output_type": "stream",
     "text": [
      "*   Trying 87.250.250.242:80...\n",
      "* TCP_NODELAY set\n",
      "* Connected to ya.ru (87.250.250.242) port 80 (#0)\n",
      "> GET / HTTP/1.1\n",
      "> Host: ya.ru\n",
      "> User-Agent: curl/7.68.0\n",
      "> Accept: */*\n",
      "> \n",
      "* Mark bundle as not supporting multiuse\n",
      "< HTTP/1.1 302 Moved temporarily\n",
      "< Cache-Control: no-cache,no-store,max-age=0,must-revalidate\n",
      "< Date: Mon, 04 Jul 2022 08:43:30 GMT\n",
      "< Expires: Mon, 04 Jul 2022 08:43:30 GMT\n",
      "< Last-Modified: Mon, 04 Jul 2022 08:43:30 GMT\n",
      "< Location: https://ya.ru/\n",
      "< NEL: {\"report_to\": \"network-errors\", \"max_age\": 86400, \"success_fraction\": 0.001, \"failure_fraction\": 0.1}\n",
      "< P3P: policyref=\"/w3c/p3p.xml\", CP=\"NON DSP ADM DEV PSD IVDo OUR IND STP PHY PRE NAV UNI\"\n",
      "< Report-To: { \"group\": \"network-errors\", \"max_age\": 86400, \"endpoints\": [ { \"url\": \"https://dr.yandex.net/nel\"}]}\n",
      "< Transfer-Encoding: chunked\n",
      "< X-Content-Type-Options: nosniff\n",
      "< X-Yandex-Req-Id: 1656924210039997-7966382465311686695-sas2-0796-sas-l7-balancer-8080-BAL-6906\n",
      "< set-cookie: is_gdpr=0; Path=/; Domain=.ya.ru; Expires=Wed, 03 Jul 2024 08:43:30 GMT\n",
      "< set-cookie: is_gdpr_b=CNzDcxCzfCgC; Path=/; Domain=.ya.ru; Expires=Wed, 03 Jul 2024 08:43:30 GMT\n",
      "< set-cookie: _yasc=AfoZLW41EiH0X9dvB/pQj3rHX1W3xDLizQfAm+AlwLPcEg==; domain=.ya.ru; path=/; expires=Wed, 03-Aug-2022 08:43:30 GMT; secure\n",
      "< \n",
      "* Connection #0 to host ya.ru left intact\n"
     ]
    }
   ],
   "source": [
    "!curl -v http://ya.ru"
   ]
  },
  {
   "cell_type": "markdown",
   "id": "2402d203-b510-47b9-8899-65b5ccfedf5b",
   "metadata": {
    "slideshow": {
     "slide_type": "slide"
    }
   },
   "source": [
    "```\n",
    "GET / HTTP/1.1\n",
    "Host: ya.ru\n",
    "User-Agent: Mozilla/5.0 (X11; Linux x86_64; rv:102.0) Gecko/20100101 Firefox/102.0\n",
    "Accept: text/html,application/xhtml+xml,application/xml;q=0.9,image/avif,image/webp,*/*;q=0.8\n",
    "Accept-Language: en-US,en;q=0.5\n",
    "Accept-Encoding: gzip, deflate, br\n",
    "Connection: keep-alive\n",
    "Cookie: yp=1972195329.udn.cDrQn9Cw0LLQtdC7#1659240040.ygu.1#1656850580.gpauto.56_826221%3A60_590634%3A23%3A1%3A1656677770#1687420388.stltp.serp_bk-map_1_1655884388#1657025063.mcv.1#1657025063.mcl.14h095#1657025063.szm.1%3A1920x1080%3A1920x995#1657084913.mct.null; yandexuid=9215324561654969449; i=mUB8Q9voN7SXvF/RkkesZGYsBKNVrPxotp9iS99phnPvuHcZ3VNBzjq6VPdNTrFRPYwlcziBhOPyRActdDxq9PWNTKQ=; is_gdpr=0; is_gdpr_b=CKuXThD9BygC; yandex_gid=54; _yasc=pzDC3KacMSnRqIZvcuEfTc8i5NJd7+vZs0l5PLORDXVq4A==; yandex_csyr=1656824529; Session_id=3:1656835329.5.0.1654888664578:8vS_Ww:44.1.2:1|166559121.-1.2|6:174407.603198.PogyJJmEgJ3jZf1EfKioBBuo60s; yandex_login=senior-pimiento; ys=udn.cDrQn9Cw0LLQtdC7#c_chck.2579744302; my=; mda2_beacon=1656835329342\n",
    "Upgrade-Insecure-Requests: 1\n",
    "Sec-Fetch-Dest: document\n",
    "Sec-Fetch-Mode: navigate\n",
    "Sec-Fetch-Site: none\n",
    "Sec-Fetch-User: ?1\n",
    "Sec-GPC: 1\n",
    "Pragma: no-cache\n",
    "Cache-Control: no-cache\n",
    "```"
   ]
  },
  {
   "cell_type": "code",
   "execution_count": null,
   "id": "34898024",
   "metadata": {
    "slideshow": {
     "slide_type": "slide"
    }
   },
   "outputs": [],
   "source": [
    "!sudo apt install telnet"
   ]
  },
  {
   "cell_type": "markdown",
   "id": "cc031df6",
   "metadata": {
    "slideshow": {
     "slide_type": "fragment"
    }
   },
   "source": [
    "```\n",
    "$ telnet example.com 80\n",
    "GET / HTTP/1.1\n",
    "Host: examplecom\n",
    "\n",
    "^]\n",
    "```"
   ]
  },
  {
   "cell_type": "code",
   "execution_count": null,
   "id": "fb71b462",
   "metadata": {
    "slideshow": {
     "slide_type": "slide"
    }
   },
   "outputs": [],
   "source": [
    "!curl ifconfig.me\n",
    "!echo\n",
    "!echo \"--------\"\n",
    "!ip addr show dev wlp5s0"
   ]
  },
  {
   "cell_type": "markdown",
   "id": "216b22a8",
   "metadata": {
    "slideshow": {
     "slide_type": "fragment"
    }
   },
   "source": [
    "[Назначения подсетей IPv4](https://ru.wikipedia.org/wiki/IPv4#%D0%9D%D0%B0%D0%B7%D0%BD%D0%B0%D1%87%D0%B5%D0%BD%D0%B8%D1%8F_%D0%BF%D0%BE%D0%B4%D1%81%D0%B5%D1%82%D0%B5%D0%B9)"
   ]
  },
  {
   "cell_type": "code",
   "execution_count": null,
   "id": "2d457238",
   "metadata": {
    "scrolled": true,
    "slideshow": {
     "slide_type": "slide"
    }
   },
   "outputs": [],
   "source": [
    "!cat /etc/services"
   ]
  },
  {
   "cell_type": "markdown",
   "id": "7604deb2-314f-4047-8728-4690caea3099",
   "metadata": {
    "slideshow": {
     "slide_type": "slide"
    }
   },
   "source": [
    "![TCP Segment Header](tcp_segment_header.png)"
   ]
  },
  {
   "cell_type": "markdown",
   "id": "d584db54",
   "metadata": {
    "slideshow": {
     "slide_type": "slide"
    }
   },
   "source": [
    "**Настало время немножечко на~ш~кодить**"
   ]
  },
  {
   "cell_type": "code",
   "execution_count": 6,
   "id": "bf5b8271",
   "metadata": {
    "slideshow": {
     "slide_type": "fragment"
    }
   },
   "outputs": [
    {
     "name": "stdout",
     "output_type": "stream",
     "text": [
      "Overwriting echo_socket.py\n"
     ]
    }
   ],
   "source": [
    "%%writefile echo_socket.py\n",
    "#!/usr/bin/env python3\n",
    "\n",
    "import socket\n",
    "\n",
    "HOST = '127.0.0.1'  # Standard loopback interface address (localhost)\n",
    "PORT = 8081         # Port to listen on (non-privileged ports are > 1023)\n",
    "\n",
    "with socket.socket(socket.AF_INET, socket.SOCK_STREAM) as s:\n",
    "    s.bind((HOST, PORT))\n",
    "    s.listen()\n",
    "    try:\n",
    "        conn, addr = s.accept()\n",
    "        with conn:\n",
    "            print('Connected by', addr)\n",
    "            while True:\n",
    "                data = conn.recv(1024)\n",
    "                if not data:\n",
    "                    break\n",
    "                conn.sendall(data)\n",
    "    finally:\n",
    "        print(f\"Close port {PORT}\")\n",
    "        s.shutdown(socket.SHUT_RDWR)\n"
   ]
  },
  {
   "cell_type": "code",
   "execution_count": null,
   "id": "ac680e8c",
   "metadata": {
    "slideshow": {
     "slide_type": "fragment"
    }
   },
   "outputs": [],
   "source": [
    "%run echo_socket.py"
   ]
  },
  {
   "cell_type": "markdown",
   "id": "6917c28b",
   "metadata": {
    "slideshow": {
     "slide_type": "slide"
    }
   },
   "source": [
    "**А теперь напишем Django с нуля 😉**"
   ]
  },
  {
   "cell_type": "code",
   "execution_count": 5,
   "id": "d9e60dd8",
   "metadata": {
    "slideshow": {
     "slide_type": "fragment"
    }
   },
   "outputs": [
    {
     "name": "stdout",
     "output_type": "stream",
     "text": [
      "Overwriting django.py\n"
     ]
    }
   ],
   "source": [
    "%%writefile django.py\n",
    "#!/usr/bin/env python3\n",
    "\n",
    "import socket\n",
    "\n",
    "HOST = '127.0.0.1'  # Standard loopback interface address (localhost)\n",
    "PORT = 8082         # Port to listen on (non-privileged ports are > 1023)\n",
    "\n",
    "with socket.socket(socket.AF_INET, socket.SOCK_STREAM) as s:\n",
    "    try:\n",
    "        s.bind((HOST, PORT))\n",
    "        s.listen()\n",
    "        conn, addr = s.accept()\n",
    "        with conn:\n",
    "            print('Connected by', addr)\n",
    "            while True:\n",
    "                data = conn.recv(1024).decode('utf-8')\n",
    "                if not data:\n",
    "                    break\n",
    "                try:\n",
    "                    path = data.rstrip('\\n').rstrip('\\r')\n",
    "                    print(repr(path))\n",
    "                    with open(path, 'r') as fd:\n",
    "                        conn.sendall((fd.read(1000) + '\\r\\n').encode('utf-8'))\n",
    "                except Exception as e:\n",
    "                    conn.sendall(str(e + '\\r\\n').encode('utf-8'))\n",
    "    finally:\n",
    "        print(f\"Close port {PORT}\")\n",
    "        s.shutdown(socket.SHUT_RDWR)\n"
   ]
  },
  {
   "cell_type": "code",
   "execution_count": null,
   "id": "167fb1fd",
   "metadata": {
    "slideshow": {
     "slide_type": "fragment"
    }
   },
   "outputs": [],
   "source": [
    "%run django.py"
   ]
  },
  {
   "cell_type": "code",
   "execution_count": null,
   "id": "18df5b47",
   "metadata": {},
   "outputs": [],
   "source": []
  }
 ],
 "metadata": {
  "celltoolbar": "Slideshow",
  "kernelspec": {
   "display_name": "Python 3 (ipykernel)",
   "language": "python",
   "name": "python3"
  },
  "language_info": {
   "codemirror_mode": {
    "name": "ipython",
    "version": 3
   },
   "file_extension": ".py",
   "mimetype": "text/x-python",
   "name": "python",
   "nbconvert_exporter": "python",
   "pygments_lexer": "ipython3",
   "version": "3.8.10"
  },
  "name": "webinar.ipynb"
 },
 "nbformat": 4,
 "nbformat_minor": 5
}
